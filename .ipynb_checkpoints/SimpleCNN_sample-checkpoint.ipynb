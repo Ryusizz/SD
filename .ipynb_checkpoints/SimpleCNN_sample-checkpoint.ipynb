{
 "cells": [
  {
   "cell_type": "markdown",
   "metadata": {},
   "source": [
    "# Import "
   ]
  },
  {
   "cell_type": "code",
   "execution_count": 1,
   "metadata": {
    "collapsed": false
   },
   "outputs": [],
   "source": [
    "import tensorflow as tf\n",
    "import numpy as np\n",
    "import matplotlib.pyplot as plt\n",
    "%matplotlib inline"
   ]
  },
  {
   "cell_type": "markdown",
   "metadata": {},
   "source": [
    "# Data Loading "
   ]
  },
  {
   "cell_type": "code",
   "execution_count": 2,
   "metadata": {
    "collapsed": false,
    "scrolled": true
   },
   "outputs": [
    {
     "name": "stdout",
     "output_type": "stream",
     "text": [
      "Loading Done\n",
      "Session Created\n"
     ]
    }
   ],
   "source": [
    "# load slices subtracted by average slice\n",
    "import os\n",
    "import pickle\n",
    "with open(os.getcwd() + \"/data/sample/SampleData_Normal1.pkl\", 'rb') as f :\n",
    "    Data = pickle.load(f)\n",
    "X_data = np.array(Data['X'])\n",
    "y_data = np.array(Data['y'])\n",
    "print \"Loading Done\"\n",
    "config = tf.GPUOptions(allow_growth=True, log_device_placement=True)\n",
    "# sess = tf.Session(config=tf.ConfigProto(gpu_options=tf.GPUOptions(allow_growth=True)))\n",
    "sess = tf.Session(config=config)\n",
    "print \"Session Created\""
   ]
  },
  {
   "cell_type": "code",
   "execution_count": 3,
   "metadata": {
    "collapsed": true
   },
   "outputs": [],
   "source": [
    "# visualize slice\n"
   ]
  },
  {
   "cell_type": "markdown",
   "metadata": {},
   "source": [
    "# Build Structure "
   ]
  },
  {
   "cell_type": "code",
   "execution_count": 3,
   "metadata": {
    "collapsed": false
   },
   "outputs": [],
   "source": [
    "nOut = 13\n",
    "nIn = 280*140\n",
    "W = {\"w1\" : tf.Variable(tf.truncated_normal([5, 5, 3, 32], stddev=0.1)),\n",
    "    \"w2\" : tf.Variable(tf.truncated_normal([5, 5, 32, 64], stddev=0.1)),\n",
    "    \"w3\" : tf.Variable(tf.truncated_normal([14*7*64, 128], stddev=0.1)),\n",
    "    \"w4\" : tf.Variable(tf.truncated_normal([128, nOut], stddev=0.1))}\n",
    "B = {\"b1\" : tf.Variable(tf.random_normal([32], stddev=0.1)),\n",
    "    \"b2\" : tf.Variable(tf.random_normal([64], stddev=0.1)),\n",
    "    \"b3\" : tf.Variable(tf.random_normal([128], stddev=0.1)),\n",
    "    \"b4\" : tf.Variable(tf.random_normal([nOut], stddev=0.1))}\n",
    "\n",
    "x = tf.placeholder(tf.uint8, [None, 280, 140, 3])\n",
    "y = tf.placeholder(tf.uint8, [None])\n",
    "# X_data = tf.constant(X_train)\n",
    "# y_data = tf.constant(y_train)\n",
    "y_hot = tf.one_hot(y, nOut)\n",
    "x_float = tf.cast(x, tf.float32)\n",
    "\n",
    "# x_r = tf.reshape(x, [-1, 32, 32, 3]) \n",
    "conv1 = tf.nn.conv2d(x_float, W[\"w1\"], strides=[1,1,1,1], padding='SAME')\n",
    "mean, var = tf.nn.moments(conv1, [0,1,2])\n",
    "conv1 = tf.nn.batch_normalization(conv1, mean, var, 0, 1, 0.001)\n",
    "conv1 = tf.nn.relu(tf.nn.bias_add(conv1, B[\"b1\"]))\n",
    "pool1 = tf.nn.max_pool(conv1, ksize=[1,4,4,1], strides=[1,4,4,1], padding='SAME')\n",
    "\n",
    "conv2 = tf.nn.conv2d(pool1, W[\"w2\"], strides=[1,1,1,1], padding='SAME')\n",
    "mean, var = tf.nn.moments(conv2, [0,1,2])\n",
    "conv2 = tf.nn.batch_normalization(conv2, mean, var, 0, 1, 0.001)\n",
    "conv2 = tf.nn.relu(tf.nn.bias_add(conv2, B[\"b2\"]))\n",
    "pool2 = tf.nn.max_pool(conv2, ksize=[1,5,5,1], strides=[1,5,5,1], padding='SAME')\n",
    "\n",
    "fc1 = tf.reshape(pool2, [-1, W[\"w3\"].get_shape().as_list()[0]])\n",
    "fc1 = tf.nn.relu(tf.nn.bias_add(tf.matmul(fc1, W[\"w3\"]), B[\"b3\"]))\n",
    "\n",
    "fc2 = tf.nn.bias_add(tf.matmul(fc1, W[\"w4\"]), B[\"b4\"])\n",
    "\n",
    "loss = tf.reduce_mean(tf.nn.softmax_cross_entropy_with_logits(logits=fc2, labels=y_hot))\n",
    "opt = tf.train.AdamOptimizer(learning_rate=0.01).minimize(loss)"
   ]
  },
  {
   "cell_type": "code",
   "execution_count": 6,
   "metadata": {
    "collapsed": false
   },
   "outputs": [],
   "source": [
    "corPred = tf.equal(tf.argmax(fc2, 1), tf.argmax(y_hot, 1))\n",
    "acc = tf.reduce_mean(tf.cast(corPred, tf.float32))"
   ]
  },
  {
   "cell_type": "markdown",
   "metadata": {},
   "source": [
    "# TensorBoard"
   ]
  },
  {
   "cell_type": "code",
   "execution_count": 10,
   "metadata": {
    "collapsed": false
   },
   "outputs": [],
   "source": [
    "# tf.summary.scalar('cross_entrophy', loss)\n",
    "# tf.summary.scalar('accuracy', acc)\n",
    "# merged = tf.summary.merge_all()\n",
    "# summary_writer = tf.FWriter(\"/test\", sess.graph)"
   ]
  },
  {
   "cell_type": "markdown",
   "metadata": {},
   "source": [
    "# Run"
   ]
  },
  {
   "cell_type": "code",
   "execution_count": null,
   "metadata": {
    "collapsed": false
   },
   "outputs": [
    {
     "name": "stdout",
     "output_type": "stream",
     "text": [
      "Epoch: 000/050 Cost : 126.061 TrainAcc : 0.373 TestAcc : 0.027\n",
      "Epoch: 002/050 Cost : 47.931 TrainAcc : 0.187 TestAcc : 0.514\n",
      "Epoch: 004/050 Cost : 31.411 TrainAcc : 0.107 TestAcc : 0.027\n",
      "Epoch: 006/050 Cost : 13.862 TrainAcc : 0.393 TestAcc : 0.351\n",
      "Epoch: 008/050 Cost : 5.411 TrainAcc : 0.407 TestAcc : 0.378"
     ]
    }
   ],
   "source": [
    "n = len(X_data)\n",
    "n_test = n/5\n",
    "n_train = n - n_test\n",
    "i = np.random.permutation(n)\n",
    "X_train = X_data[i[:n_train]]\n",
    "y_train = y_data[i[:n_train]]\n",
    "X_test = X_data[i[n_train:]]\n",
    "y_test = y_data[i[n_train:]]\n",
    "\n",
    "trainEpochs = 50\n",
    "dispStep = 2\n",
    "batch_size = 50\n",
    "batchNum = n_train/batch_size\n",
    "# sess.run(tf.global_variables_initializer())\n",
    "sess.run(tf.initialize_all_variables())\n",
    "\n",
    "for epoch in range(trainEpochs):\n",
    "    train_cost = 0\n",
    "    train_acc = 0\n",
    "    batchIdxs = np.random.permutation(n_train)\n",
    "    for i in range(batchNum):\n",
    "#         x_curr, y_curr = sess.run(x_batch, y_batch)\n",
    "#         print y_curr\n",
    "        x_batch = X_train[batchIdxs[i*batch_size:(i+1)*batch_size]]\n",
    "        y_batch = y_train[batchIdxs[i*batch_size:(i+1)*batch_size]]\n",
    "        sess.run(opt, feed_dict={x:x_batch, y:y_batch})\n",
    "#         summary, _ = sess.run([merged, opt], feed_dict={x:x_batch, y:y_batch})\n",
    "#         summary_writer.add_summary(summary, batchNum*epoch + i)\n",
    "        train_cost += sess.run(loss, feed_dict={x:x_batch, y:y_batch})/batchNum\n",
    "        train_acc += sess.run(acc, feed_dict={x:x_batch, y:y_batch})/batchNum\n",
    "    if epoch%dispStep == 0:\n",
    "#         train_cost = sess.run(loss, feed_dict={x:X_train, y:y_train})\n",
    "#         train_acc = sess.run(acc, feed_dict={x:X_train, y:y_train})\n",
    "        test_acc = sess.run(acc, feed_dict={x:X_test, y:y_test})\n",
    "        print \"Epoch: {:03d}/{:03d} Cost : {:.3f} TrainAcc : {:.3f} TestAcc : {:.3f}\".format(epoch, trainEpochs, train_cost, train_acc, test_acc)"
   ]
  },
  {
   "cell_type": "code",
   "execution_count": 10,
   "metadata": {
    "collapsed": false
   },
   "outputs": [],
   "source": [
    "sess.close()"
   ]
  }
 ],
 "metadata": {
  "kernelspec": {
   "display_name": "Python 2",
   "language": "python",
   "name": "python2"
  },
  "language_info": {
   "codemirror_mode": {
    "name": "ipython",
    "version": 2
   },
   "file_extension": ".py",
   "mimetype": "text/x-python",
   "name": "python",
   "nbconvert_exporter": "python",
   "pygments_lexer": "ipython2",
   "version": "2.7.6"
  }
 },
 "nbformat": 4,
 "nbformat_minor": 0
}
