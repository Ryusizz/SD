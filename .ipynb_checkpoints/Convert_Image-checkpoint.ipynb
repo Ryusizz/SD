{
 "cells": [
  {
   "cell_type": "code",
   "execution_count": 1,
   "metadata": {
    "collapsed": true
   },
   "outputs": [],
   "source": [
    "import tensorflow as tf\n",
    "import numpy as np\n",
    "import matplotlib.pyplot as plt\n",
    "import os\n",
    "import glob\n",
    "# from scipy.ndimage.interpolation import rotate\n",
    "# from PIL import Image\n",
    "%matplotlib inline"
   ]
  },
  {
   "cell_type": "code",
   "execution_count": 2,
   "metadata": {},
   "outputs": [
    {
     "name": "stdout",
     "output_type": "stream",
     "text": [
      "['CORROSION', 'PASS', 'PAST_REPAIR', 'GAT2_HABU_PTN_E', 'GAT1_HABU_PTN_E', 'SHORT_P', 'PI_UNDER_S', 'SD_BOMB', 'SD_SPOT', 'CNT_NOT_OPEN', 'PI_UNDERLAYER', 'ACT_HABU_PTN_ER', 'CNT_FILM', 'ILD_FLAKE', 'PI_UNDER_K', 'LARVA', 'PTN_ERR', 'TI_YUSIL', 'HOLE_PTN_ERR', 'CNT_NOT_OPEN_S', 'SHORT_D', 'BLACK_SPOT', 'BLACK_IMUL']\n",
      "Loading Done\n"
     ]
    }
   ],
   "source": [
    "# load Data\n",
    "data_dir = os.getcwd() + \"/../full_data/\"\n",
    "cats = os.listdir(data_dir)\n",
    "for c in cats :\n",
    "    if not filter(os.path.isdir, glob.glob(data_dir + c)) :\n",
    "         cats.remove(c)\n",
    "cats.remove(\"others\")\n",
    "cats.remove(\"shchoi\")\n",
    "cats.remove(\"file_list.txt\")\n",
    "# cats.remove(\".ipynb_checkpoints\")\n",
    "# cats.remove(\"PASS\")\n",
    "print cats\n",
    "# fList = []\n",
    "# cList = []\n",
    "cDic = { cats[i] : i for i in range(len(cats)) }\n",
    "# for c in cats :\n",
    "#     fCat = os.listdir(data_dir + c)\n",
    "#     for f in fCat :\n",
    "#         if f.split('.')[-1] == \"png\" and f.split('_')[-2] == \"O\" :\n",
    "#             fList.append(dataDir + c + \"/\" + f)\n",
    "#             cList.append(cDic[c])\n",
    "print \"Loading Done\""
   ]
  },
  {
   "cell_type": "code",
   "execution_count": 3,
   "metadata": {},
   "outputs": [
    {
     "name": "stdout",
     "output_type": "stream",
     "text": [
      "Processing CORROSION\n"
     ]
    },
    {
     "ename": "NameError",
     "evalue": "name 'dataDir' is not defined",
     "output_type": "error",
     "traceback": [
      "\u001b[0;31m---------------------------------------------------------------------------\u001b[0m",
      "\u001b[0;31mNameError\u001b[0m                                 Traceback (most recent call last)",
      "\u001b[0;32m<ipython-input-3-aca50b6f1fbd>\u001b[0m in \u001b[0;36m<module>\u001b[0;34m()\u001b[0m\n\u001b[1;32m     11\u001b[0m     \u001b[0;32mif\u001b[0m \u001b[0;32mnot\u001b[0m \u001b[0mos\u001b[0m\u001b[0;34m.\u001b[0m\u001b[0mpath\u001b[0m\u001b[0;34m.\u001b[0m\u001b[0mexists\u001b[0m\u001b[0;34m(\u001b[0m\u001b[0mnew_dataDir\u001b[0m \u001b[0;34m+\u001b[0m \u001b[0mc\u001b[0m\u001b[0;34m)\u001b[0m\u001b[0;34m:\u001b[0m\u001b[0;34m\u001b[0m\u001b[0m\n\u001b[1;32m     12\u001b[0m         \u001b[0mos\u001b[0m\u001b[0;34m.\u001b[0m\u001b[0mmakedirs\u001b[0m\u001b[0;34m(\u001b[0m\u001b[0mnew_dataDir\u001b[0m \u001b[0;34m+\u001b[0m \u001b[0mc\u001b[0m\u001b[0;34m)\u001b[0m\u001b[0;34m\u001b[0m\u001b[0m\n\u001b[0;32m---> 13\u001b[0;31m     \u001b[0mfCat\u001b[0m \u001b[0;34m=\u001b[0m \u001b[0mos\u001b[0m\u001b[0;34m.\u001b[0m\u001b[0mlistdir\u001b[0m\u001b[0;34m(\u001b[0m\u001b[0mdataDir\u001b[0m \u001b[0;34m+\u001b[0m \u001b[0mc\u001b[0m\u001b[0;34m)\u001b[0m\u001b[0;34m\u001b[0m\u001b[0m\n\u001b[0m\u001b[1;32m     14\u001b[0m     \u001b[0mbar\u001b[0m \u001b[0;34m=\u001b[0m \u001b[0mFloatProgress\u001b[0m\u001b[0;34m(\u001b[0m\u001b[0mmin\u001b[0m\u001b[0;34m=\u001b[0m\u001b[0;36m0\u001b[0m\u001b[0;34m,\u001b[0m \u001b[0mmax\u001b[0m\u001b[0;34m=\u001b[0m\u001b[0mlen\u001b[0m\u001b[0;34m(\u001b[0m\u001b[0mfCat\u001b[0m\u001b[0;34m)\u001b[0m\u001b[0;34m)\u001b[0m\u001b[0;34m\u001b[0m\u001b[0m\n\u001b[1;32m     15\u001b[0m     \u001b[0mdisplay\u001b[0m\u001b[0;34m(\u001b[0m\u001b[0mbar\u001b[0m\u001b[0;34m)\u001b[0m\u001b[0;34m\u001b[0m\u001b[0m\n",
      "\u001b[0;31mNameError\u001b[0m: name 'dataDir' is not defined"
     ]
    }
   ],
   "source": [
    "# bmp to png\n",
    "from ipywidgets import FloatProgress\n",
    "from IPython.display import display\n",
    "from PIL import Image\n",
    "\n",
    "data_dir_new = os.getcwd() + \"/../full_data_png/\"\n",
    "if not os.path.exists(data_dir_new):\n",
    "    os.makedirs(data_dir_new)\n",
    "for c in cats :\n",
    "    print \"Processing %s\"%c\n",
    "    if not os.path.exists(data_dir_new + c):\n",
    "        os.makedirs(data_dir_new + c)\n",
    "    fCat = os.listdir(data_dir + c)\n",
    "    bar = FloatProgress(min=0, max=len(fCat))\n",
    "    display(bar)\n",
    "    for i, f in enumerate(fCat) :\n",
    "        bar.value = i+1\n",
    "        if f.split('.')[-1] == \"bmp\" : #and f.split('_')[-2] == \"O\" :\n",
    "            img = Image.open(data_dir + c + \"/\" + f)\n",
    "            img.save(data_dir_new + c + \"/\" + f[:-4] + \".png\", \"png\")"
   ]
  }
 ],
 "metadata": {
  "kernelspec": {
   "display_name": "Python 2",
   "language": "python",
   "name": "python2"
  },
  "language_info": {
   "codemirror_mode": {
    "name": "ipython",
    "version": 2
   },
   "file_extension": ".py",
   "mimetype": "text/x-python",
   "name": "python",
   "nbconvert_exporter": "python",
   "pygments_lexer": "ipython2",
   "version": "2.7.12"
  }
 },
 "nbformat": 4,
 "nbformat_minor": 2
}
