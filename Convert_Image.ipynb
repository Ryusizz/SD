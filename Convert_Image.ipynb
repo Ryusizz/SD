{
 "cells": [
  {
   "cell_type": "code",
   "execution_count": 1,
   "metadata": {
    "collapsed": true
   },
   "outputs": [],
   "source": [
    "import tensorflow as tf\n",
    "import numpy as np\n",
    "import matplotlib.pyplot as plt\n",
    "import os\n",
    "import glob\n",
    "# from scipy.ndimage.interpolation import rotate\n",
    "# from PIL import Image\n",
    "%matplotlib inline"
   ]
  },
  {
   "cell_type": "code",
   "execution_count": 2,
   "metadata": {},
   "outputs": [
    {
     "name": "stdout",
     "output_type": "stream",
     "text": [
      "['CORROSION', 'PASS', 'PAST_REPAIR', 'GAT2_HABU_PTN_E', 'GAT1_HABU_PTN_E', 'SHORT_P', 'PI_UNDER_S', 'SD_BOMB', 'SD_SPOT', 'CNT_NOT_OPEN', 'PI_UNDERLAYER', 'ACT_HABU_PTN_ER', 'CNT_FILM', 'ILD_FLAKE', 'PI_UNDER_K', 'LARVA', 'PTN_ERR', 'TI_YUSIL', 'HOLE_PTN_ERR', 'CNT_NOT_OPEN_S', 'SHORT_D', 'BLACK_SPOT', 'BLACK_IMUL']\n",
      "Loading Done\n"
     ]
    }
   ],
   "source": [
    "# load Data\n",
    "data_dir = os.getcwd() + \"/../full_data/\"\n",
    "cats = os.listdir(data_dir)\n",
    "for c in cats :\n",
    "    if not filter(os.path.isdir, glob.glob(data_dir + c)) :\n",
    "         cats.remove(c)\n",
    "cats.remove(\"others\")\n",
    "cats.remove(\"shchoi\")\n",
    "cats.remove(\"file_list.txt\")\n",
    "# cats.remove(\".ipynb_checkpoints\")\n",
    "# cats.remove(\"PASS\")\n",
    "print cats\n",
    "# fList = []\n",
    "# cList = []\n",
    "cDic = { cats[i] : i for i in range(len(cats)) }\n",
    "# for c in cats :\n",
    "#     fCat = os.listdir(data_dir + c)\n",
    "#     for f in fCat :\n",
    "#         if f.split('.')[-1] == \"png\" and f.split('_')[-2] == \"O\" :\n",
    "#             fList.append(dataDir + c + \"/\" + f)\n",
    "#             cList.append(cDic[c])\n",
    "print \"Loading Done\""
   ]
  },
  {
   "cell_type": "code",
   "execution_count": 3,
   "metadata": {},
   "outputs": [
    {
     "name": "stdout",
     "output_type": "stream",
     "text": [
      "Processing CORROSION\n"
     ]
    },
    {
     "data": {
      "application/vnd.jupyter.widget-view+json": {
       "model_id": "9be3ae517ed24400bd9c9de023a37347"
      }
     },
     "metadata": {},
     "output_type": "display_data"
    },
    {
     "name": "stdout",
     "output_type": "stream",
     "text": [
      "Processing PASS\n"
     ]
    },
    {
     "data": {
      "application/vnd.jupyter.widget-view+json": {
       "model_id": "2358eccaf1e04ab3b532c84c9a6cc570"
      }
     },
     "metadata": {},
     "output_type": "display_data"
    },
    {
     "name": "stdout",
     "output_type": "stream",
     "text": [
      "Processing PAST_REPAIR\n"
     ]
    },
    {
     "data": {
      "application/vnd.jupyter.widget-view+json": {
       "model_id": "802559e787a04d0bab436f1ac0d0e510"
      }
     },
     "metadata": {},
     "output_type": "display_data"
    },
    {
     "name": "stdout",
     "output_type": "stream",
     "text": [
      "Processing GAT2_HABU_PTN_E\n"
     ]
    },
    {
     "data": {
      "application/vnd.jupyter.widget-view+json": {
       "model_id": "d6c26f7ed4104de99c0e8e059c5b21ac"
      }
     },
     "metadata": {},
     "output_type": "display_data"
    },
    {
     "name": "stdout",
     "output_type": "stream",
     "text": [
      "Processing GAT1_HABU_PTN_E\n"
     ]
    },
    {
     "data": {
      "application/vnd.jupyter.widget-view+json": {
       "model_id": "4876ba26b57046d48589583686c4c4d9"
      }
     },
     "metadata": {},
     "output_type": "display_data"
    },
    {
     "name": "stdout",
     "output_type": "stream",
     "text": [
      "Processing SHORT_P\n"
     ]
    },
    {
     "data": {
      "application/vnd.jupyter.widget-view+json": {
       "model_id": "ec79861cf836490f8966291a1990494b"
      }
     },
     "metadata": {},
     "output_type": "display_data"
    },
    {
     "name": "stdout",
     "output_type": "stream",
     "text": [
      "Processing PI_UNDER_S\n"
     ]
    },
    {
     "data": {
      "application/vnd.jupyter.widget-view+json": {
       "model_id": "9f90ef98ff5348ec90d50f3cc688854a"
      }
     },
     "metadata": {},
     "output_type": "display_data"
    },
    {
     "name": "stdout",
     "output_type": "stream",
     "text": [
      "Processing SD_BOMB\n"
     ]
    },
    {
     "data": {
      "application/vnd.jupyter.widget-view+json": {
       "model_id": "c6503021f39a486096f5b70f8b548daa"
      }
     },
     "metadata": {},
     "output_type": "display_data"
    },
    {
     "name": "stdout",
     "output_type": "stream",
     "text": [
      "Processing SD_SPOT\n"
     ]
    },
    {
     "data": {
      "application/vnd.jupyter.widget-view+json": {
       "model_id": "7b95a1cd0d004a93ad28c051c4c660fa"
      }
     },
     "metadata": {},
     "output_type": "display_data"
    },
    {
     "name": "stdout",
     "output_type": "stream",
     "text": [
      "Processing CNT_NOT_OPEN\n"
     ]
    },
    {
     "data": {
      "application/vnd.jupyter.widget-view+json": {
       "model_id": "21ccb6a2c82545cfbbd98322534d6060"
      }
     },
     "metadata": {},
     "output_type": "display_data"
    },
    {
     "name": "stdout",
     "output_type": "stream",
     "text": [
      "Processing PI_UNDERLAYER\n"
     ]
    },
    {
     "data": {
      "application/vnd.jupyter.widget-view+json": {
       "model_id": "3d9f946735c645de979c00dbcafd861f"
      }
     },
     "metadata": {},
     "output_type": "display_data"
    },
    {
     "name": "stdout",
     "output_type": "stream",
     "text": [
      "Processing ACT_HABU_PTN_ER\n"
     ]
    },
    {
     "data": {
      "application/vnd.jupyter.widget-view+json": {
       "model_id": "60c28618cb4f4a86b4cd86578216fdae"
      }
     },
     "metadata": {},
     "output_type": "display_data"
    },
    {
     "name": "stdout",
     "output_type": "stream",
     "text": [
      "Processing CNT_FILM\n"
     ]
    },
    {
     "data": {
      "application/vnd.jupyter.widget-view+json": {
       "model_id": "f29d9e0dbab44fb4b1706f5349b5e460"
      }
     },
     "metadata": {},
     "output_type": "display_data"
    },
    {
     "name": "stdout",
     "output_type": "stream",
     "text": [
      "Processing ILD_FLAKE\n"
     ]
    },
    {
     "data": {
      "application/vnd.jupyter.widget-view+json": {
       "model_id": "104deda31e474fa9af8cb4c58892adb2"
      }
     },
     "metadata": {},
     "output_type": "display_data"
    },
    {
     "name": "stdout",
     "output_type": "stream",
     "text": [
      "Processing PI_UNDER_K\n"
     ]
    },
    {
     "data": {
      "application/vnd.jupyter.widget-view+json": {
       "model_id": "64c6dd9c63a547daa91fb7c01ee88513"
      }
     },
     "metadata": {},
     "output_type": "display_data"
    },
    {
     "name": "stdout",
     "output_type": "stream",
     "text": [
      "Processing LARVA\n"
     ]
    },
    {
     "data": {
      "application/vnd.jupyter.widget-view+json": {
       "model_id": "16870ef49c294d849000b92e7d829f7b"
      }
     },
     "metadata": {},
     "output_type": "display_data"
    },
    {
     "name": "stdout",
     "output_type": "stream",
     "text": [
      "Processing PTN_ERR\n"
     ]
    },
    {
     "data": {
      "application/vnd.jupyter.widget-view+json": {
       "model_id": "86552186876d41cd8b494d15a74c5566"
      }
     },
     "metadata": {},
     "output_type": "display_data"
    },
    {
     "name": "stdout",
     "output_type": "stream",
     "text": [
      "Processing TI_YUSIL\n"
     ]
    },
    {
     "data": {
      "application/vnd.jupyter.widget-view+json": {
       "model_id": "cf6723f8b1a648dab5192eebdb3de5b5"
      }
     },
     "metadata": {},
     "output_type": "display_data"
    },
    {
     "name": "stdout",
     "output_type": "stream",
     "text": [
      "Processing HOLE_PTN_ERR\n"
     ]
    },
    {
     "data": {
      "application/vnd.jupyter.widget-view+json": {
       "model_id": "48ac5803926d457d8a48dfd818848c60"
      }
     },
     "metadata": {},
     "output_type": "display_data"
    },
    {
     "name": "stdout",
     "output_type": "stream",
     "text": [
      "Processing CNT_NOT_OPEN_S\n"
     ]
    },
    {
     "data": {
      "application/vnd.jupyter.widget-view+json": {
       "model_id": "fbaca80383874ad1be9e7826d863d250"
      }
     },
     "metadata": {},
     "output_type": "display_data"
    },
    {
     "name": "stdout",
     "output_type": "stream",
     "text": [
      "Processing SHORT_D\n"
     ]
    },
    {
     "data": {
      "application/vnd.jupyter.widget-view+json": {
       "model_id": "f5972763b9d74ab1b4b4f4108d8dca4b"
      }
     },
     "metadata": {},
     "output_type": "display_data"
    },
    {
     "name": "stdout",
     "output_type": "stream",
     "text": [
      "Processing BLACK_SPOT\n"
     ]
    },
    {
     "data": {
      "application/vnd.jupyter.widget-view+json": {
       "model_id": "00c9568b2f344ec68819fea5367a43ec"
      }
     },
     "metadata": {},
     "output_type": "display_data"
    },
    {
     "name": "stdout",
     "output_type": "stream",
     "text": [
      "Processing BLACK_IMUL\n"
     ]
    },
    {
     "data": {
      "application/vnd.jupyter.widget-view+json": {
       "model_id": "8a02c0125fc24e1cbd2c6825a468aae2"
      }
     },
     "metadata": {},
     "output_type": "display_data"
    }
   ],
   "source": [
    "# bmp to png\n",
    "from ipywidgets import FloatProgress\n",
    "from IPython.display import display\n",
    "from PIL import Image\n",
    "\n",
    "data_dir_new = os.getcwd() + \"/../full_data_png/\"\n",
    "if not os.path.exists(data_dir_new):\n",
    "    os.makedirs(data_dir_new)\n",
    "for c in cats :\n",
    "    print \"Processing %s\"%c\n",
    "    if not os.path.exists(data_dir_new + c):\n",
    "        os.makedirs(data_dir_new + c)\n",
    "    fCat = os.listdir(data_dir + c)\n",
    "    bar = FloatProgress(min=0, max=len(fCat))\n",
    "    display(bar)\n",
    "    for i, f in enumerate(fCat) :\n",
    "        bar.value = i+1\n",
    "        if f.split('.')[-1] == \"bmp\" : #and f.split('_')[-2] == \"O\" :\n",
    "            img = Image.open(data_dir + c + \"/\" + f)\n",
    "            img.save(data_dir_new + c + \"/\" + f[:-4] + \".png\", \"png\")"
   ]
  }
 ],
 "metadata": {
  "kernelspec": {
   "display_name": "Python 2",
   "language": "python",
   "name": "python2"
  },
  "language_info": {
   "codemirror_mode": {
    "name": "ipython",
    "version": 2
   },
   "file_extension": ".py",
   "mimetype": "text/x-python",
   "name": "python",
   "nbconvert_exporter": "python",
   "pygments_lexer": "ipython2",
   "version": "2.7.12"
  }
 },
 "nbformat": 4,
 "nbformat_minor": 2
}
