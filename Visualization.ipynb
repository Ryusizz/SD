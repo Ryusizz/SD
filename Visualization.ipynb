{
 "cells": [
  {
   "cell_type": "markdown",
   "metadata": {},
   "source": [
    "# Library "
   ]
  },
  {
   "cell_type": "code",
   "execution_count": 1,
   "metadata": {
    "collapsed": true
   },
   "outputs": [],
   "source": [
    "import numpy as np\n",
    "import math\n",
    "import os\n",
    "import sys\n",
    "import scipy\n",
    "from scipy.signal import argrelextrema, correlate2d\n",
    "from scipy.misc import imresize\n",
    "from scipy import ndimage\n",
    "import matplotlib.pyplot as plt\n",
    "import tensorflow as tf\n",
    "from PIL import Image\n",
    "# %matplotlib inline\n",
    "\n",
    "import tools"
   ]
  },
  {
   "cell_type": "markdown",
   "metadata": {},
   "source": [
    "# Data Loading "
   ]
  },
  {
   "cell_type": "code",
   "execution_count": 2,
   "metadata": {
    "collapsed": true
   },
   "outputs": [],
   "source": [
    "# Prepare variables\n",
    "V = tools.Vars()\n",
    "V.put('data_dir', os.getcwd() + \"/../full_data/\")\n",
    "V.put('data_dir_cell', os.getcwd() + \"/../full_data_cell/\")\n",
    "V.put('data_dir_cell_back_rm', os.getcwd() + \"/../full_data_cell_bgrm/\")\n",
    "V.put('data_dir_cell_unscale', os.getcwd() + \"/../cell_unscale/\")\n",
    "# V.put('cell_xy_file', os.getcwd() + \"/../cell_unscale/cell_xy.p\")\n",
    "V.put('cell_x', 140)\n",
    "V.put('cell_y', 280)\n",
    "V.put('tmp_x', 138)\n",
    "V.put('tmp_y', 270)\n",
    "# V.put('image_x', 2456)\n",
    "# V.put('image_y', 2058)\n",
    "\n",
    "def load_image(a, V) :\n",
    "    return ndimage.imread(V.get('data_dir') + a['cat'] + \"/\" + a['name'])"
   ]
  },
  {
   "cell_type": "code",
   "execution_count": 3,
   "metadata": {},
   "outputs": [
    {
     "name": "stdout",
     "output_type": "stream",
     "text": [
      "['ACT_HABU_PTN_ER', 'BLACK_IMUL', 'BLACK_SPOT', 'CNT_FILM', 'CNT_NOT_OPEN', 'CNT_NOT_OPEN_S', 'CORROSION', 'GAT1_HABU_PTN_E', 'GAT2_HABU_PTN_E', 'HOLE_PTN_ERR', 'ILD_FLAKE', 'LARVA', 'PAST_REPAIR', 'PI_UNDERLAYER', 'PI_UNDER_K', 'PI_UNDER_S', 'PTN_ERR', 'SD_BOMB', 'SD_SPOT', 'SHORT_D', 'SHORT_P', 'TI_YUSIL']\n"
     ]
    }
   ],
   "source": [
    "import glob\n",
    "# Loading Image & Error\n",
    "cats = os.listdir(V.get('data_dir'))\n",
    "for c in cats :\n",
    "    if not filter(os.path.isdir, glob.glob(V.get('data_dir') + c)) :\n",
    "         cats.remove(c)\n",
    "cats.remove(\"shchoi\")\n",
    "cats.remove(\"others\")\n",
    "cats.remove(\"Template3.bmp\")\n",
    "cats.remove(\"full_data_cell_bgrm_only_jpg\")\n",
    "cats.remove(\"PASS\")\n",
    "cats = sorted(cats)\n",
    "print cats\n",
    "\n",
    "anns = {}\n",
    "\n",
    "cnt = 0\n",
    "for c in cats :\n",
    "    for name in os.listdir(V.get('data_dir') + c):\n",
    "        if name.split('.')[-1] == \"jpg\" :\n",
    "#         img = ndimage.imread(dataDir + c + \"/\" + name).astype(float)\n",
    "            anns[name] = {'name':name, 'cat':c}\n",
    "cDic = { cats[i] : i for i in range(len(cats)) }\n",
    "\n",
    "f = open(V.get('data_dir') + \"error_xy.txt\", 'r')\n",
    "errLines = f.readlines()\n",
    "for i, l in enumerate(errLines) :\n",
    "    tokens = l.split(':')[-2:]\n",
    "    c, name = tokens[0].split('\\\\')[-2:]\n",
    "    if name in anns :\n",
    "        err = tokens[1][:-3].replace(')','').replace('(','').replace(']','').replace('[',',').split(',')\n",
    "        if len(err) > 1 :\n",
    "            anns[name]['err'] = map(int, err)"
   ]
  },
  {
   "cell_type": "markdown",
   "metadata": {},
   "source": [
    "# Interact"
   ]
  },
  {
   "cell_type": "code",
   "execution_count": 8,
   "metadata": {},
   "outputs": [
    {
     "data": {
      "application/vnd.jupyter.widget-view+json": {
       "model_id": "c377e5c3863b4b4482a89d39f6d52a8b"
      }
     },
     "metadata": {},
     "output_type": "display_data"
    },
    {
     "data": {
      "text/plain": [
       "<function __main__.show_image>"
      ]
     },
     "execution_count": 8,
     "metadata": {},
     "output_type": "execute_result"
    }
   ],
   "source": [
    "from ipywidgets import *\n",
    "from ipykernel.pylab.backend_inline import flush_figures\n",
    "\n",
    "values = anns.values()\n",
    "\n",
    "def show_image(i) :\n",
    "    fig = plt.figure(figsize=(20,20))\n",
    "    ax = fig.add_subplot(111)\n",
    "    img = load_image(values[i], V)\n",
    "#     img = imresize(img, (img.shape[0]*3, img.shape[1]*3))\n",
    "    print img.shape\n",
    "#     plt.imshow(img)\n",
    "    ax.imshow(img)\n",
    "#     ax.show()\n",
    "#     plt.show()\n",
    "#     plt.show()\n",
    "#     flush_figures()\n",
    "    plt.show()\n",
    "#     ax.figure.canvas.draw()\n",
    "\n",
    "interact(show_image, i = (0,len(anns),1))"
   ]
  },
  {
   "cell_type": "code",
   "execution_count": 4,
   "metadata": {},
   "outputs": [
    {
     "name": "stdout",
     "output_type": "stream",
     "text": [
      "{'CNT_NOT_OPEN_S': 5, 'SD_BOMB': 17, 'PI_UNDERLAYER': 13, 'CORROSION': 6, 'CNT_FILM': 3, 'LARVA': 11, 'PAST_REPAIR': 12, 'GAT2_HABU_PTN_E': 8, 'ILD_FLAKE': 10, 'GAT1_HABU_PTN_E': 7, 'ACT_HABU_PTN_ER': 0, 'PI_UNDER_S': 15, 'BLACK_IMUL': 1, 'BLACK_SPOT': 2, 'PTN_ERR': 16, 'PI_UNDER_K': 14, 'SHORT_D': 19, 'HOLE_PTN_ERR': 9, 'SD_SPOT': 18, 'SHORT_P': 20, 'TI_YUSIL': 21, 'CNT_NOT_OPEN': 4}\n"
     ]
    }
   ],
   "source": [
    "print cDic"
   ]
  }
 ],
 "metadata": {
  "kernelspec": {
   "display_name": "Python 2",
   "language": "python",
   "name": "python2"
  },
  "language_info": {
   "codemirror_mode": {
    "name": "ipython",
    "version": 2
   },
   "file_extension": ".py",
   "mimetype": "text/x-python",
   "name": "python",
   "nbconvert_exporter": "python",
   "pygments_lexer": "ipython2",
   "version": "2.7.12"
  }
 },
 "nbformat": 4,
 "nbformat_minor": 2
}
